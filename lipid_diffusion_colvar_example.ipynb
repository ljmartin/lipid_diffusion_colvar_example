{
 "cells": [
  {
   "cell_type": "code",
   "execution_count": 1,
   "metadata": {},
   "outputs": [],
   "source": [
    "import simtk\n",
    "from simtk.openmm.app import *\n",
    "from simtk.openmm import *\n",
    "from simtk.unit import *\n",
    "import numpy as np\n",
    "from simtk import unit\n",
    "import copy\n",
    "sys.path.append('../')\n",
    "import itertools\n",
    "from sys import stdout\n",
    "\n",
    "\n",
    "topology.Topology.loadBondDefinitions('./popc.xml')\n",
    "output_directory = './'\n",
    "pdb = PDBFile('./step5_assembly.pdb')\n",
    "forcefield = ForceField('amber14-all.xml', 'amber14/tip3pfb.xml')\n",
    "\n",
    "water_coords = np.array([pos/nanometer for pos, atom in zip(pdb.positions, pdb.topology.atoms()) if atom.residue.name=='HOH'])\n",
    "size = water_coords.max(0) - water_coords.min(0)\n",
    "pdb.topology.setPeriodicBoxVectors([Vec3(x=size[0], y=0, z=0), \n",
    "                                   Vec3(x=0, y=size[1], z=0), \n",
    "                                   Vec3(x=0, y=0, z=size[2])])"
   ]
  },
  {
   "cell_type": "code",
   "execution_count": 2,
   "metadata": {},
   "outputs": [
    {
     "data": {
      "text/plain": [
       "[35529]"
      ]
     },
     "execution_count": 2,
     "metadata": {},
     "output_type": "execute_result"
    }
   ],
   "source": [
    "#get the indices of the 'ligand', in this case a sodium ion:\n",
    "ligand_idx = [i.index for i in pdb.topology.atoms() if i.residue.name == 'NA'][0:1]\n",
    "ligand_idx"
   ]
  },
  {
   "cell_type": "code",
   "execution_count": 3,
   "metadata": {},
   "outputs": [],
   "source": [
    "#get the indices of the lipid headgroups.\n",
    "#it's convenient to use the phosphorus but you could choose any atom, or\n",
    "#group of atoms to create centroid bond force.\n",
    "\n",
    "#note: the leaflets can be separated by z coordinate > or < zero in this pdb that\n",
    "#came from CHARMMGUI, but that might change particularly when reloading an OpenMM sim\n",
    "#that shifts coords to have minimum [0,0,0]\n",
    "\n",
    "#fetch the indices of a single leaflet:\n",
    "upper_leaflet_idx = [atom.index for atom, position in zip(pdb.topology.atoms(), pdb.positions) if (position[2]>0*nanometer and atom.name=='P')]\n",
    "\n",
    "#fetch the other leaflet:\n",
    "lower_leaflet_idx = [atom.index for atom, position in zip(pdb.topology.atoms(), pdb.positions) if (position[2]<0*nanometer and atom.name=='P')]\n"
   ]
  },
  {
   "cell_type": "code",
   "execution_count": 4,
   "metadata": {},
   "outputs": [
    {
     "data": {
      "text/plain": [
       "0"
      ]
     },
     "execution_count": 4,
     "metadata": {},
     "output_type": "execute_result"
    }
   ],
   "source": [
    "###Creating a force controlling distance to upper leaflet headgroup:\n",
    "\n",
    "\n",
    "energy_expression = \"distance1 = distance(g1, g2)\"\n",
    "for group in range(1, len(upper_leaflet_idx)):\n",
    "    last_term = \"distance\"+str(group+1)\n",
    "    energy_expression = last_term + \" = min(distance\"+str(group)+\", distance(g1,g\"+str(group+2)+\"));\"+energy_expression\n",
    "    \n",
    "energy_expression = \"j*\"+last_term+\";\"+energy_expression\n",
    "\n",
    "force_upper = CustomCentroidBondForce(1+len(upper_leaflet_idx), energy_expression)\n",
    "ligand = force_upper.addGroup(ligand_idx)\n",
    "\n",
    "upper_headgroup_groups = list()\n",
    "for atom in upper_leaflet_idx:\n",
    "    upper_headgroup_group = force_upper.addGroup([atom])\n",
    "    upper_headgroup_groups.append(upper_headgroup_group)\n",
    "\n",
    "force_upper.addBond([0]+upper_headgroup_groups, [])\n",
    "\n",
    "\n",
    "#make sure it's periodic!\n",
    "force_upper.setUsesPeriodicBoundaryConditions(True)\n",
    "\n",
    "#add a multiplier that is just 0, so the simulation won't actually be affected by the force\n",
    "force_upper.addGlobalParameter('j', 0*kilojoule/mole)"
   ]
  },
  {
   "cell_type": "code",
   "execution_count": 5,
   "metadata": {},
   "outputs": [
    {
     "data": {
      "text/plain": [
       "0"
      ]
     },
     "execution_count": 5,
     "metadata": {},
     "output_type": "execute_result"
    }
   ],
   "source": [
    "###Creating a force controlling distance to lower leaflet headgroup:\n",
    "\n",
    "energy_expression = \"distance1 = distance(g1, g2)\"\n",
    "for group in range(1, len(upper_leaflet_idx)):\n",
    "    last_term = \"distance\"+str(group+1)\n",
    "    energy_expression = last_term + \" = min(distance\"+str(group)+\", distance(g1,g\"+str(group+2)+\"));\"+energy_expression\n",
    "    \n",
    "energy_expression = \"k*\"+last_term+\";\"+energy_expression\n",
    "\n",
    "\n",
    "force_lower = CustomCentroidBondForce(1+len(lower_leaflet_idx), energy_expression)\n",
    "ligand = force_lower.addGroup(ligand_idx)\n",
    "\n",
    "lower_headgroup_groups = list()\n",
    "for atom in lower_leaflet_idx:\n",
    "    lower_headgroup_group = force_lower.addGroup([atom])\n",
    "    lower_headgroup_groups.append(lower_headgroup_group)\n",
    "\n",
    "force_lower.addBond([0]+lower_headgroup_groups, [])\n",
    "\n",
    "#make sure it's periodic!\n",
    "force_lower.setUsesPeriodicBoundaryConditions(True)\n",
    "#add a multiplier that is just 0, so the simulation won't actually be affected by the force\n",
    "force_lower.addGlobalParameter('k', 0*kilojoule/mole)"
   ]
  },
  {
   "cell_type": "code",
   "execution_count": 6,
   "metadata": {},
   "outputs": [
    {
     "data": {
      "text/plain": [
       "'k*distance66;distance66 = min(distance65, distance(g1,g67));distance65 = min(distance64, distance(g1,g66));distance64 = min(distance63, distance(g1,g65));distance63 = min(distance62, distance(g1,g64));distance62 = min(distance61, distance(g1,g63));distance61 = min(distance60, distance(g1,g62));distance60 = min(distance59, distance(g1,g61));distance59 = min(distance58, distance(g1,g60));distance58 = min(distance57, distance(g1,g59));distance57 = min(distance56, distance(g1,g58));distance56 = min(distance55, distance(g1,g57));distance55 = min(distance54, distance(g1,g56));distance54 = min(distance53, distance(g1,g55));distance53 = min(distance52, distance(g1,g54));distance52 = min(distance51, distance(g1,g53));distance51 = min(distance50, distance(g1,g52));distance50 = min(distance49, distance(g1,g51));distance49 = min(distance48, distance(g1,g50));distance48 = min(distance47, distance(g1,g49));distance47 = min(distance46, distance(g1,g48));distance46 = min(distance45, distance(g1,g47));distance45 = min(distance44, distance(g1,g46));distance44 = min(distance43, distance(g1,g45));distance43 = min(distance42, distance(g1,g44));distance42 = min(distance41, distance(g1,g43));distance41 = min(distance40, distance(g1,g42));distance40 = min(distance39, distance(g1,g41));distance39 = min(distance38, distance(g1,g40));distance38 = min(distance37, distance(g1,g39));distance37 = min(distance36, distance(g1,g38));distance36 = min(distance35, distance(g1,g37));distance35 = min(distance34, distance(g1,g36));distance34 = min(distance33, distance(g1,g35));distance33 = min(distance32, distance(g1,g34));distance32 = min(distance31, distance(g1,g33));distance31 = min(distance30, distance(g1,g32));distance30 = min(distance29, distance(g1,g31));distance29 = min(distance28, distance(g1,g30));distance28 = min(distance27, distance(g1,g29));distance27 = min(distance26, distance(g1,g28));distance26 = min(distance25, distance(g1,g27));distance25 = min(distance24, distance(g1,g26));distance24 = min(distance23, distance(g1,g25));distance23 = min(distance22, distance(g1,g24));distance22 = min(distance21, distance(g1,g23));distance21 = min(distance20, distance(g1,g22));distance20 = min(distance19, distance(g1,g21));distance19 = min(distance18, distance(g1,g20));distance18 = min(distance17, distance(g1,g19));distance17 = min(distance16, distance(g1,g18));distance16 = min(distance15, distance(g1,g17));distance15 = min(distance14, distance(g1,g16));distance14 = min(distance13, distance(g1,g15));distance13 = min(distance12, distance(g1,g14));distance12 = min(distance11, distance(g1,g13));distance11 = min(distance10, distance(g1,g12));distance10 = min(distance9, distance(g1,g11));distance9 = min(distance8, distance(g1,g10));distance8 = min(distance7, distance(g1,g9));distance7 = min(distance6, distance(g1,g8));distance6 = min(distance5, distance(g1,g7));distance5 = min(distance4, distance(g1,g6));distance4 = min(distance3, distance(g1,g5));distance3 = min(distance2, distance(g1,g4));distance2 = min(distance1, distance(g1,g3));distance1 = distance(g1, g2)'"
      ]
     },
     "execution_count": 6,
     "metadata": {},
     "output_type": "execute_result"
    }
   ],
   "source": [
    "##Print out the energy expression to see what just happened:\n",
    "\n",
    "##it works like this: g1 is the ligand group. g2 through g'N' are the phosphorus atoms.\n",
    "##with N=100 lipids, you will have up to group g101 (here there are 66 lipids) \n",
    "##The energy expression iterates through distances (g1,g2), (g1,g3), (g1,g4) and keeps a memory\n",
    "##of the minimum distance encountered so far. By the Nth distance encountered, all distances have been seen\n",
    "##and the total minimum should be stored in the variable 'distanceN'\n",
    "\n",
    "energy_expression"
   ]
  },
  {
   "cell_type": "code",
   "execution_count": 7,
   "metadata": {},
   "outputs": [],
   "source": [
    "def make_system(ff, top):\n",
    "    system = ff.createSystem(top, \n",
    "                        nonbondedMethod = PME,\n",
    "                        nonbondedCutoff = 0.8*nanometer,\n",
    "                        constraints = HBonds,\n",
    "                        rigidWater = True, )\n",
    "    system.addForce(MonteCarloBarostat(1*atmosphere, 310*kelvin))\n",
    "    return system\n",
    "\n",
    "\n",
    "def make_simulation(system, top):\n",
    "    integrator = LangevinIntegrator(310*kelvin, 1/picosecond, 0.002*picoseconds)\n",
    "    simulation = Simulation(top, system, integrator)\n",
    "    simulation.context.setPositions(pdb.positions)\n",
    "    simulation.minimizeEnergy()\n",
    "    simulation.context.setVelocitiesToTemperature(310*kelvin)\n",
    "    return simulation"
   ]
  },
  {
   "cell_type": "markdown",
   "metadata": {},
   "source": [
    "# Record speed without extra force:"
   ]
  },
  {
   "cell_type": "code",
   "execution_count": 8,
   "metadata": {},
   "outputs": [
    {
     "name": "stdout",
     "output_type": "stream",
     "text": [
      "#\"Step\",\"Potential Energy (kJ/mole)\",\"Temperature (K)\",\"Speed (ns/day)\"\n",
      "500,-415377.830598661,256.0107483721364,0\n",
      "1000,-404148.72401390853,289.49824048182285,180\n",
      "1500,-402392.5382541686,304.7050763262747,180\n",
      "2000,-402428.72185623134,308.06320291874067,179\n",
      "2500,-401350.9437954135,309.15808706038274,179\n",
      "3000,-401362.6921109848,307.968768743152,178\n",
      "3500,-402157.9397244232,310.51282293168356,178\n",
      "4000,-402799.70373091963,309.47532029901384,178\n",
      "4500,-404256.47876604204,310.81734866722917,178\n",
      "5000,-404561.3674866776,310.83925085683205,178\n",
      "5500,-404088.63524155365,310.31296054434347,178\n",
      "6000,-404840.8837782014,309.1754830670573,178\n",
      "6500,-406227.272890107,313.0699386814571,178\n",
      "7000,-404946.8962762791,308.56106087300964,178\n",
      "7500,-405913.4937771554,308.8300976888234,178\n",
      "8000,-405182.3134579973,309.38766896822733,178\n",
      "8500,-406341.3977689741,311.5614939100795,178\n",
      "9000,-406870.29470313806,312.37866067182455,178\n",
      "9500,-406250.25415351056,311.8305976204804,178\n",
      "10000,-407747.10493959207,315.38928126738386,178\n"
     ]
    }
   ],
   "source": [
    "system = make_system(forcefield, pdb.topology)\n",
    "simulation = make_simulation(system, pdb.topology)\n",
    "#simulation.reporters.append(DCDReporter('equil.dcd', 1000))\n",
    "simulation.reporters.append(StateDataReporter(stdout, 500, step=True, potentialEnergy=True, temperature=True, speed=True))\n",
    "simulation.step(10000)"
   ]
  },
  {
   "cell_type": "markdown",
   "metadata": {},
   "source": [
    "# Record speed with extra force:\n",
    "It takes a little while to compile the force because of the long energy expression."
   ]
  },
  {
   "cell_type": "code",
   "execution_count": 9,
   "metadata": {},
   "outputs": [
    {
     "name": "stdout",
     "output_type": "stream",
     "text": [
      "#\"Step\",\"Potential Energy (kJ/mole)\",\"Temperature (K)\",\"Speed (ns/day)\"\n",
      "500,-412223.72329741437,254.82324350460019,0\n",
      "1000,-400669.3782048235,290.7939042315442,142\n",
      "1500,-398098.8217189687,304.650696663174,142\n",
      "2000,-397043.79509514966,306.8173450148996,142\n",
      "2500,-397357.7319211252,310.1437078280292,142\n",
      "3000,-395769.7443494997,309.1655716858406,142\n",
      "3500,-398491.4489374638,311.35779548322887,142\n",
      "4000,-398801.9341898635,312.1881316774778,142\n",
      "4500,-399642.41060008225,311.0975667872707,142\n",
      "5000,-401948.7248759959,309.3285281147318,142\n",
      "5500,-402353.72479629633,309.8868026200361,142\n",
      "6000,-402644.688984307,307.02806557361345,142\n",
      "6500,-402218.9454325733,308.5166657162999,142\n",
      "7000,-402931.90686796466,309.70454729260547,142\n",
      "7500,-403491.2462539759,308.5589728358646,142\n",
      "8000,-404549.14444976114,310.2051967636063,141\n",
      "8500,-403921.75729866,309.94427209592277,141\n",
      "9000,-403897.6860086748,310.8566292846238,141\n",
      "9500,-404010.46805329504,310.2692299315364,141\n",
      "10000,-404589.293699238,310.39470815124736,141\n"
     ]
    }
   ],
   "source": [
    "system = make_system(forcefield, pdb.topology)\n",
    "system.addForce(force_upper)\n",
    "system.addForce(force_lower)\n",
    "simulation = make_simulation(system, pdb.topology)\n",
    "#simulation.reporters.append(DCDReporter('equil.dcd', 1000))\n",
    "simulation.reporters.append(StateDataReporter(stdout, 500, step=True, potentialEnergy=True, temperature=True, speed=True))\n",
    "simulation.step(10000)"
   ]
  },
  {
   "cell_type": "code",
   "execution_count": 10,
   "metadata": {},
   "outputs": [
    {
     "data": {
      "text/plain": [
       "0.7921348314606742"
      ]
     },
     "execution_count": 10,
     "metadata": {},
     "output_type": "execute_result"
    }
   ],
   "source": [
    "141 / 178"
   ]
  }
 ],
 "metadata": {
  "kernelspec": {
   "display_name": "Python 3",
   "language": "python",
   "name": "python3"
  },
  "language_info": {
   "codemirror_mode": {
    "name": "ipython",
    "version": 3
   },
   "file_extension": ".py",
   "mimetype": "text/x-python",
   "name": "python",
   "nbconvert_exporter": "python",
   "pygments_lexer": "ipython3",
   "version": "3.7.3"
  }
 },
 "nbformat": 4,
 "nbformat_minor": 2
}
